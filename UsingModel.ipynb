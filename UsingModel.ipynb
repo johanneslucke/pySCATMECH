{
 "cells": [
  {
   "cell_type": "markdown",
   "metadata": {},
   "source": [
    "Using the Model module\n",
    "===================="
   ]
  },
  {
   "cell_type": "markdown",
   "metadata": {},
   "source": [
    "Most users of pySCATMECH will not use the Model module directly. It is used for accessing features common to all models in pySCATMECH. However, if the user is creating a graphical user interface, some of these features may be helpful. "
   ]
  },
  {
   "cell_type": "code",
   "execution_count": 1,
   "metadata": {},
   "outputs": [],
   "source": [
    "from pySCATMECH.model import *"
   ]
  },
  {
   "cell_type": "markdown",
   "metadata": {},
   "source": [
    "You can access a dictionary containing every model that inherits a specific model in SCATMECH.  Each model has a brief description and a parent model, accessible with the `'description'` and `'parent'` keys. In the following, we see the models that inherit `'Roughness_BRDF_Model'` (these are models which require power spectral density functions to describe roughness)."
   ]
  },
  {
   "cell_type": "code",
   "execution_count": 2,
   "metadata": {},
   "outputs": [],
   "source": [
    "modelDictionary = getModelDictionary('Roughness_BRDF_Model')\n",
    "printDictOfDict(modelDictionary)"
   ]
  },
  {
   "cell_type": "markdown",
   "metadata": {},
   "source": [
    "We can create an instance of any model using `Model`. Note that the only functionality that is availalble to `Model` is the access to its parameters. (Remember: classes that inherit `Model`, e.g., `BRDF_Model`, `Local_BRDF_Model`, `Free_Space_Scatterer`, `RCW_Model`, and `Cross_RCW_Model`, have additional functionality that make them useful for their specific applictions.)"
   ]
  },
  {
   "cell_type": "code",
   "execution_count": 3,
   "metadata": {},
   "outputs": [],
   "source": [
    "psdFunction = Model(\"ABC_PSD_Function\")\n",
    "print(\"printParameters() returns:\")\n",
    "print(psdFunction.printParameters())\n",
    "\n",
    "print(\"\\ngetParameters() returns:\")\n",
    "print(psdFunction.getParameters())\n",
    "\n",
    "print(\"\\ngetParameterDictionary() returns:\")\n",
    "print(printDictOfDict(psdFunction.getParameterDictionary()))\n"
   ]
  },
  {
   "cell_type": "code",
   "execution_count": 4,
   "metadata": {},
   "outputs": [],
   "source": [
    "psdFunction.setParameter('A',0.2)\n",
    "psdFunction.getParameters()"
   ]
  },
  {
   "cell_type": "code",
   "execution_count": 5,
   "metadata": {},
   "outputs": [],
   "source": [
    "parameters ={None : 'Bobbert_Vlieger_BRDF_Model',\n",
    "              'lambda': '0.633',\n",
    "              'substrate': '(1.56,0.2)',\n",
    "              'type': '0',\n",
    "              'density': '1',\n",
    "              'sphere': '(1.59,0)',\n",
    "              'radius': '1',\n",
    "              'spherecoat': 'No_StackModel',\n",
    "              'stack': 'SingleFilm_StackModel',\n",
    "              'delta': '0'} \n",
    "model = Model(parameters)\n",
    "print(model)"
   ]
  },
  {
   "cell_type": "code",
   "execution_count": 6,
   "metadata": {},
   "outputs": [],
   "source": [
    "printDictOfDict(model.getParameterDictionary())"
   ]
  },
  {
   "cell_type": "code",
   "execution_count": 7,
   "metadata": {},
   "outputs": [],
   "source": [
    "model.getParameter('radius')"
   ]
  },
  {
   "cell_type": "code",
   "execution_count": 8,
   "metadata": {},
   "outputs": [],
   "source": [
    "model.getModelName()"
   ]
  },
  {
   "cell_type": "code",
   "execution_count": 9,
   "metadata": {},
   "outputs": [
    {
     "name": "stdout",
     "output_type": "stream",
     "text": [
      "{None : 'Bobbert_Vlieger_BRDF_Model',\n",
      "'lambda' : '0.532',\n",
      "'substrate' : '(4.05,0.05)',\n",
      "'type' : '0',\n",
      "'density' : '1',\n",
      "'sphere' : '(1.59,0)',\n",
      "'radius' : '0.05',\n",
      "'spherecoat' : 'No_StackModel',\n",
      "'stack' : 'No_StackModel',\n",
      "'delta' : '0',\n",
      "'lmax' : '0',\n",
      "'order' : '-1',\n",
      "'Norm_Inc_Approx' : '0',\n",
      "'improve' : '3'}\n"
     ]
    }
   ],
   "source": [
    "model = DialogGetModel(\"BRDF_Model\")\n",
    "print(model)"
   ]
  },
  {
   "cell_type": "code",
   "execution_count": 10,
   "metadata": {},
   "outputs": [
    {
     "name": "stdout",
     "output_type": "stream",
     "text": [
      "{None : 'Bobbert_Vlieger_BRDF_Model',\n",
      "'lambda' : '0.532',\n",
      "'substrate' : '(4.05,0.05)',\n",
      "'type' : '0',\n",
      "'density' : '1',\n",
      "'sphere' : '(1.59,0)',\n",
      "'radius' : '0.05',\n",
      "'spherecoat' : 'No_StackModel',\n",
      "'stack' : 'No_StackModel',\n",
      "'delta' : '0',\n",
      "'lmax' : '0',\n",
      "'order' : '-1',\n",
      "'Norm_Inc_Approx' : '0',\n",
      "'improve' : '3'}\n"
     ]
    }
   ],
   "source": [
    "model = DialogGetModel('BRDF_Model')\n",
    "m = DialogGetModelParameters(Model(model))\n",
    "print(model)"
   ]
  }
 ],
 "metadata": {
  "kernelspec": {
   "display_name": "Python 3",
   "language": "python",
   "name": "python3"
  },
  "language_info": {
   "codemirror_mode": {
    "name": "ipython",
    "version": 3
   },
   "file_extension": ".py",
   "mimetype": "text/x-python",
   "name": "python",
   "nbconvert_exporter": "python",
   "pygments_lexer": "ipython3",
   "version": "3.7.7"
  }
 },
 "nbformat": 4,
 "nbformat_minor": 2
}
